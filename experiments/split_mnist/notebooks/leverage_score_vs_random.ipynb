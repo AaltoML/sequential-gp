{
 "cells": [
  {
   "cell_type": "markdown",
   "id": "80a3d3f2",
   "metadata": {},
   "source": [
    "## Leverage score vs Random\n",
    "\n",
    "Evolution of test set accuracy of our method as we move data from training set to test set based on BLS ranking vs. randomly.\n",
    "\n",
    "This notebook was used to generate Figure 2(a)."
   ]
  },
  {
   "cell_type": "code",
   "execution_count": 1,
   "id": "5ed6e9dd",
   "metadata": {},
   "outputs": [],
   "source": [
    "import os\n",
    "import numpy as np\n",
    "import matplotlib.pyplot as plt\n",
    "import gpflow\n",
    "import tensorflow as tf\n",
    "from tqdm import tqdm\n",
    "\n",
    "import pickle\n",
    "import sys\n",
    "sys.path.append(\"..\")\n",
    "sys.path.append(\"../../..\")\n",
    "\n",
    "from src.models.tsvgp_white import t_SVGP_white\n",
    "from src.models.tsvgp_cont import t_SVGP_cont, OnlineGP, piv_chol, compute_lev, random_picker\n",
    "from mnist_utils import load_split_mnist, optimize_online_model_minibatch\n",
    "\n",
    "from exp_utils import optimize_full_model"
   ]
  },
  {
   "cell_type": "markdown",
   "id": "474308f4",
   "metadata": {},
   "source": [
    "## Load trained model\n",
    "\n",
    "This is used to calculate leverage score and move points."
   ]
  },
  {
   "cell_type": "code",
   "execution_count": 2,
   "id": "5f671ba6",
   "metadata": {},
   "outputs": [
    {
     "name": "stdout",
     "output_type": "stream",
     "text": [
      "Model loaded successfully!!!\n"
     ]
    }
   ],
   "source": [
    "model_path = \"../split_mnist_runs/online_memory/14-37-24/model_online.pkl\"\n",
    "\n",
    "with open(model_path, \"rb\") as f:\n",
    "    dict_params = pickle.load(f)\n",
    "        \n",
    "    kernel = gpflow.kernels.Matern52()\n",
    "    likelihood = gpflow.likelihoods.Softmax(10)\n",
    "    inducing_variable = -2 + np.zeros((300, 784)) + np.random.rand(300 * 784).reshape((-1, 784))\n",
    "    model = t_SVGP_cont(kernel, likelihood, inducing_variable, num_latent_gps=10)\n",
    "\n",
    "    model.kernel.lengthscales = dict_params['.kernel.lengthscales']\n",
    "    model.kernel.variance = dict_params['.kernel.variance']\n",
    "\n",
    "    # Load Z\n",
    "    model.inducing_variable.Z = dict_params['.inducing_variable.Z']\n",
    "    Z = model.inducing_variable.Z.numpy().copy()\n",
    "\n",
    "    # Load variational parameters\n",
    "    model.lambda_1.assign(dict_params['.sites.lambda_1'])\n",
    "    model.lambda_2.assign(dict_params['.sites._lambda_2'])\n",
    "\n",
    "    print(\"Model loaded successfully!!!\")"
   ]
  },
  {
   "cell_type": "code",
   "execution_count": 3,
   "id": "a4a7deb4",
   "metadata": {},
   "outputs": [],
   "source": [
    "def set_seet_and_load_mnist(seed=33):\n",
    "    np.random.seed(seed)\n",
    "    tf.random.set_seed(seed)\n",
    "    \n",
    "    train_tasks, test_tasks = load_split_mnist(seed=seed)\n",
    "\n",
    "    all_train_tasks = train_tasks[0]\n",
    "    all_test_tasks = test_tasks[0]\n",
    "\n",
    "    for i in range(1, 5):\n",
    "        all_train_tasks = (np.concatenate([all_train_tasks[0], train_tasks[i][0]], axis=0),\n",
    "                           np.concatenate([all_train_tasks[1], train_tasks[i][1]], axis=0)\n",
    "                          )\n",
    "\n",
    "        all_test_tasks = (np.concatenate([all_test_tasks[0], test_tasks[i][0]], axis=0),\n",
    "                          np.concatenate([all_test_tasks[1], test_tasks[i][1]], axis=0)\n",
    "                          )\n",
    "    \n",
    "    return all_train_tasks, all_test_tasks\n"
   ]
  },
  {
   "cell_type": "code",
   "execution_count": 4,
   "id": "d08d64ba",
   "metadata": {},
   "outputs": [],
   "source": [
    "def train(model, train_data, iterations=100, n_e_steps=1, n_m_steps=1, nat_lr=0.1, mb_size=200):\n",
    "    \"\"\"\n",
    "    Utility function for training SVGP models with natural gradients\n",
    "\n",
    "    :param model: GPflow model\n",
    "    :param iterations: number of iterations\n",
    "    \"\"\"\n",
    "\n",
    "    print(\"Optimizing model: \", model.name)\n",
    "    \n",
    "    train_dataset = tf.data.Dataset.from_tensor_slices(train_data).repeat()\n",
    "    \n",
    "    train_iter = iter(train_dataset.batch(mb_size))\n",
    "    train_iter2 = iter(train_dataset.batch(mb_size))\n",
    "\n",
    "    training_loss = model.training_loss_closure(train_iter, compile=True)\n",
    "    training_loss2 = model.training_loss_closure(train_iter2, compile=True)\n",
    "\n",
    "    # Define the M-step (that is called in the same way for both)\n",
    "    optimizer = tf.optimizers.Adam(0.02)\n",
    "\n",
    "    @tf.function\n",
    "    def optimization_m_step(training_loss, params):\n",
    "        optimizer.minimize(training_loss, var_list=params)\n",
    "\n",
    "    @tf.function\n",
    "    def optimization_e_step(model, data):\n",
    "        model.natgrad_step(data, lr=nat_lr)\n",
    "\n",
    "    for _ in tqdm(range(iterations)):\n",
    "        data = next(train_iter)\n",
    "\n",
    "        for i in range(n_e_steps):\n",
    "            optimization_e_step(model, data)\n",
    "        for i in range(n_m_steps):\n",
    "            optimization_m_step(training_loss2, model.trainable_variables)"
   ]
  },
  {
   "cell_type": "code",
   "execution_count": 5,
   "id": "a002c678",
   "metadata": {},
   "outputs": [],
   "source": [
    "def get_acc(shift_percentage=0.1, use_lev_score = True):\n",
    "    N = int(all_train_tasks[0].shape[0] * shift_percentage)\n",
    "    \n",
    "    if use_lev_score:\n",
    "        lev_score, _ = compute_lev(model, all_train_tasks[0], all_train_tasks[1])\n",
    "        lev_score_idx = np.argsort(lev_score)\n",
    "        train_idx = list(lev_score_idx[-N:])\n",
    "    else:\n",
    "        train_idx = np.random.randint(0, all_train_tasks[0].shape[0], N)\n",
    "    \n",
    "    minimized_train_data = (np.delete(all_train_tasks[0], train_idx, axis=0), \n",
    "                            np.delete(all_train_tasks[1], train_idx, axis=0))\n",
    "\n",
    "    minimized_test_data = (np.concatenate([all_test_tasks[0], all_train_tasks[0][train_idx]], axis=0), \n",
    "                           np.concatenate([all_test_tasks[1], all_train_tasks[1][train_idx]], axis=0)\n",
    "                          )\n",
    "    \n",
    "    print(f\"Leverage score : {use_lev_score}\")\n",
    "    print(f\"Shift Percentage: {shift_percentage}\")\n",
    "    print(f\"Test size: {minimized_test_data[0].shape}\")\n",
    "    print(f\"Train size: {minimized_train_data[0].shape}\")\n",
    "    \n",
    "    # Shuffle train data\n",
    "    minimized_train_data = np.concatenate([minimized_train_data[0], minimized_train_data[1]], axis=1)\n",
    "    np.random.shuffle(minimized_train_data)\n",
    "    minimized_train_data = (minimized_train_data[:, :-1], minimized_train_data[:, -1:].astype(np.int64))\n",
    "    \n",
    "    Z = minimized_train_data[0][:100].copy()\n",
    "    mem = (minimized_train_data[0][:1], minimized_train_data[0][:1])\n",
    "\n",
    "    # Leverage\n",
    "    m_cont = t_SVGP_white(\n",
    "        likelihood=gpflow.likelihoods.Softmax(10),\n",
    "        kernel = gpflow.kernels.Matern52(lengthscales=model.kernel.lengthscales.numpy().copy(), \n",
    "                                         variance=model.kernel.variance.numpy().copy()),\n",
    "        inducing_variable=model.inducing_variable.Z.numpy().copy(),\n",
    "        num_latent_gps=10,\n",
    "        num_data=minimized_train_data[0].shape[0]\n",
    "    )\n",
    "\n",
    "    gpflow.utilities.set_trainable(m_cont.inducing_variable.Z, False)\n",
    "    gpflow.utilities.set_trainable(m_cont.kernel.lengthscales, False)\n",
    "    gpflow.utilities.set_trainable(m_cont.kernel.variance, False)\n",
    "\n",
    "    train(m_cont, minimized_train_data, n_e_steps=10, n_m_steps=0)\n",
    "    \n",
    "    pred = m_cont.predict_y(minimized_test_data[0])[0]\n",
    "    pred_argmax = tf.reshape(tf.argmax(pred, axis=1), (-1, 1))\n",
    "    acc = np.mean(pred_argmax == minimized_test_data[1])\n",
    "    \n",
    "    print(f\"Accuracy : {acc}\")\n",
    "    \n",
    "    return acc"
   ]
  },
  {
   "cell_type": "code",
   "execution_count": 6,
   "id": "80223363",
   "metadata": {},
   "outputs": [
    {
     "name": "stdout",
     "output_type": "stream",
     "text": [
      "Leverage score : True\n",
      "Shift Percentage: 0.01\n",
      "Test size: (14561, 784)\n",
      "Train size: (55439, 784)\n"
     ]
    },
    {
     "name": "stderr",
     "output_type": "stream",
     "text": [
      "2023-06-10 13:07:08.611083: W tensorflow/python/util/util.cc:348] Sets are not currently considered sequences, but this may change in the future, so consider avoiding using them.\n"
     ]
    },
    {
     "name": "stdout",
     "output_type": "stream",
     "text": [
      "Optimizing model:  t_svgp_white\n"
     ]
    },
    {
     "name": "stderr",
     "output_type": "stream",
     "text": [
      "  0%|                                                                                                                                                                                       | 0/100 [00:00<?, ?it/s]2023-06-10 13:07:10.322724: I tensorflow/compiler/mlir/mlir_graph_optimization_pass.cc:185] None of the MLIR Optimization Passes are enabled (registered 2)\n",
      "2023-06-10 13:07:10.324072: W tensorflow/core/platform/profile_utils/cpu_utils.cc:128] Failed to get CPU frequency: 0 Hz\n",
      "100%|█████████████████████████████████████████████████████████████████████████████████████████████████████████████████████████████████████████████████████████████████████████████| 100/100 [00:20<00:00,  4.77it/s]\n"
     ]
    },
    {
     "name": "stdout",
     "output_type": "stream",
     "text": [
      "Accuracy : 0.8524139825561431\n",
      "Leverage score : False\n",
      "Shift Percentage: 0.01\n",
      "Test size: (14561, 784)\n",
      "Train size: (55441, 784)\n",
      "Optimizing model:  t_svgp_white\n"
     ]
    },
    {
     "name": "stderr",
     "output_type": "stream",
     "text": [
      "100%|█████████████████████████████████████████████████████████████████████████████████████████████████████████████████████████████████████████████████████████████████████████████| 100/100 [00:21<00:00,  4.64it/s]\n"
     ]
    },
    {
     "name": "stdout",
     "output_type": "stream",
     "text": [
      "Accuracy : 0.8794725636975482\n",
      "Leverage score : True\n",
      "Shift Percentage: 0.02\n",
      "Test size: (15121, 784)\n",
      "Train size: (54879, 784)\n",
      "Optimizing model:  t_svgp_white\n"
     ]
    },
    {
     "name": "stderr",
     "output_type": "stream",
     "text": [
      "100%|█████████████████████████████████████████████████████████████████████████████████████████████████████████████████████████████████████████████████████████████████████████████| 100/100 [00:20<00:00,  4.83it/s]\n"
     ]
    },
    {
     "name": "stdout",
     "output_type": "stream",
     "text": [
      "Accuracy : 0.8211097149659414\n",
      "Leverage score : False\n",
      "Shift Percentage: 0.02\n",
      "Test size: (15121, 784)\n",
      "Train size: (54893, 784)\n",
      "Optimizing model:  t_svgp_white\n"
     ]
    },
    {
     "name": "stderr",
     "output_type": "stream",
     "text": [
      "100%|█████████████████████████████████████████████████████████████████████████████████████████████████████████████████████████████████████████████████████████████████████████████| 100/100 [00:21<00:00,  4.63it/s]\n"
     ]
    },
    {
     "name": "stdout",
     "output_type": "stream",
     "text": [
      "Accuracy : 0.8775874611467496\n",
      "Leverage score : True\n",
      "Shift Percentage: 0.03\n",
      "Test size: (15681, 784)\n",
      "Train size: (54319, 784)\n",
      "Optimizing model:  t_svgp_white\n"
     ]
    },
    {
     "name": "stderr",
     "output_type": "stream",
     "text": [
      "100%|█████████████████████████████████████████████████████████████████████████████████████████████████████████████████████████████████████████████████████████████████████████████| 100/100 [00:20<00:00,  4.80it/s]\n"
     ]
    },
    {
     "name": "stdout",
     "output_type": "stream",
     "text": [
      "Accuracy : 0.8245647599005166\n",
      "Leverage score : False\n",
      "Shift Percentage: 0.03\n",
      "Test size: (15681, 784)\n",
      "Train size: (54348, 784)\n",
      "Optimizing model:  t_svgp_white\n"
     ]
    },
    {
     "name": "stderr",
     "output_type": "stream",
     "text": [
      "100%|█████████████████████████████████████████████████████████████████████████████████████████████████████████████████████████████████████████████████████████████████████████████| 100/100 [00:22<00:00,  4.53it/s]\n"
     ]
    },
    {
     "name": "stdout",
     "output_type": "stream",
     "text": [
      "Accuracy : 0.8763471717364963\n",
      "Leverage score : True\n",
      "Shift Percentage: 0.05\n",
      "Test size: (16801, 784)\n",
      "Train size: (53199, 784)\n",
      "Optimizing model:  t_svgp_white\n"
     ]
    },
    {
     "name": "stderr",
     "output_type": "stream",
     "text": [
      "100%|█████████████████████████████████████████████████████████████████████████████████████████████████████████████████████████████████████████████████████████████████████████████| 100/100 [00:22<00:00,  4.47it/s]\n"
     ]
    },
    {
     "name": "stdout",
     "output_type": "stream",
     "text": [
      "Accuracy : 0.8050711267186477\n",
      "Leverage score : False\n",
      "Shift Percentage: 0.05\n",
      "Test size: (16801, 784)\n",
      "Train size: (53257, 784)\n",
      "Optimizing model:  t_svgp_white\n"
     ]
    },
    {
     "name": "stderr",
     "output_type": "stream",
     "text": [
      "100%|█████████████████████████████████████████████████████████████████████████████████████████████████████████████████████████████████████████████████████████████████████████████| 100/100 [00:22<00:00,  4.50it/s]\n"
     ]
    },
    {
     "name": "stdout",
     "output_type": "stream",
     "text": [
      "Accuracy : 0.8749479197666805\n",
      "Leverage score : True\n",
      "Shift Percentage: 0.07\n",
      "Test size: (17921, 784)\n",
      "Train size: (52079, 784)\n",
      "Optimizing model:  t_svgp_white\n"
     ]
    },
    {
     "name": "stderr",
     "output_type": "stream",
     "text": [
      "100%|█████████████████████████████████████████████████████████████████████████████████████████████████████████████████████████████████████████████████████████████████████████████| 100/100 [00:21<00:00,  4.60it/s]\n"
     ]
    },
    {
     "name": "stdout",
     "output_type": "stream",
     "text": [
      "Accuracy : 0.779030188047542\n",
      "Leverage score : False\n",
      "Shift Percentage: 0.07\n",
      "Test size: (17921, 784)\n",
      "Train size: (52206, 784)\n",
      "Optimizing model:  t_svgp_white\n"
     ]
    },
    {
     "name": "stderr",
     "output_type": "stream",
     "text": [
      "100%|█████████████████████████████████████████████████████████████████████████████████████████████████████████████████████████████████████████████████████████████████████████████| 100/100 [00:21<00:00,  4.61it/s]\n"
     ]
    },
    {
     "name": "stdout",
     "output_type": "stream",
     "text": [
      "Accuracy : 0.8766251883265442\n",
      "Leverage score : True\n",
      "Shift Percentage: 0.1\n",
      "Test size: (19601, 784)\n",
      "Train size: (50399, 784)\n",
      "Optimizing model:  t_svgp_white\n"
     ]
    },
    {
     "name": "stderr",
     "output_type": "stream",
     "text": [
      "100%|█████████████████████████████████████████████████████████████████████████████████████████████████████████████████████████████████████████████████████████████████████████████| 100/100 [00:21<00:00,  4.67it/s]\n"
     ]
    },
    {
     "name": "stdout",
     "output_type": "stream",
     "text": [
      "Accuracy : 0.7475638998010306\n",
      "Leverage score : False\n",
      "Shift Percentage: 0.1\n",
      "Test size: (19601, 784)\n",
      "Train size: (50654, 784)\n",
      "Optimizing model:  t_svgp_white\n"
     ]
    },
    {
     "name": "stderr",
     "output_type": "stream",
     "text": [
      "100%|█████████████████████████████████████████████████████████████████████████████████████████████████████████████████████████████████████████████████████████████████████████████| 100/100 [00:21<00:00,  4.67it/s]\n"
     ]
    },
    {
     "name": "stdout",
     "output_type": "stream",
     "text": [
      "Accuracy : 0.8768940360185705\n",
      "Leverage score : True\n",
      "Shift Percentage: 0.12\n",
      "Test size: (20721, 784)\n",
      "Train size: (49279, 784)\n",
      "Optimizing model:  t_svgp_white\n"
     ]
    },
    {
     "name": "stderr",
     "output_type": "stream",
     "text": [
      "100%|█████████████████████████████████████████████████████████████████████████████████████████████████████████████████████████████████████████████████████████████████████████████| 100/100 [00:21<00:00,  4.61it/s]\n"
     ]
    },
    {
     "name": "stdout",
     "output_type": "stream",
     "text": [
      "Accuracy : 0.7489020800154432\n",
      "Leverage score : False\n",
      "Shift Percentage: 0.12\n",
      "Test size: (20721, 784)\n",
      "Train size: (49641, 784)\n",
      "Optimizing model:  t_svgp_white\n"
     ]
    },
    {
     "name": "stderr",
     "output_type": "stream",
     "text": [
      "100%|█████████████████████████████████████████████████████████████████████████████████████████████████████████████████████████████████████████████████████████████████████████████| 100/100 [00:22<00:00,  4.54it/s]\n"
     ]
    },
    {
     "name": "stdout",
     "output_type": "stream",
     "text": [
      "Accuracy : 0.8795907533420202\n",
      "Leverage score : True\n",
      "Shift Percentage: 0.15\n",
      "Test size: (22401, 784)\n",
      "Train size: (47599, 784)\n",
      "Optimizing model:  t_svgp_white\n"
     ]
    },
    {
     "name": "stderr",
     "output_type": "stream",
     "text": [
      "100%|█████████████████████████████████████████████████████████████████████████████████████████████████████████████████████████████████████████████████████████████████████████████| 100/100 [00:21<00:00,  4.56it/s]\n"
     ]
    },
    {
     "name": "stdout",
     "output_type": "stream",
     "text": [
      "Accuracy : 0.7323780188384447\n",
      "Leverage score : False\n",
      "Shift Percentage: 0.15\n",
      "Test size: (22401, 784)\n",
      "Train size: (48199, 784)\n",
      "Optimizing model:  t_svgp_white\n"
     ]
    },
    {
     "name": "stderr",
     "output_type": "stream",
     "text": [
      "100%|█████████████████████████████████████████████████████████████████████████████████████████████████████████████████████████████████████████████████████████████████████████████| 100/100 [00:21<00:00,  4.55it/s]\n"
     ]
    },
    {
     "name": "stdout",
     "output_type": "stream",
     "text": [
      "Accuracy : 0.8773715459131288\n",
      "Leverage score : True\n",
      "Shift Percentage: 0.01\n",
      "Test size: (14561, 784)\n",
      "Train size: (55439, 784)\n",
      "Optimizing model:  t_svgp_white\n"
     ]
    },
    {
     "name": "stderr",
     "output_type": "stream",
     "text": [
      "100%|█████████████████████████████████████████████████████████████████████████████████████████████████████████████████████████████████████████████████████████████████████████████| 100/100 [00:21<00:00,  4.71it/s]\n"
     ]
    },
    {
     "name": "stdout",
     "output_type": "stream",
     "text": [
      "Accuracy : 0.8524139825561431\n",
      "Leverage score : False\n",
      "Shift Percentage: 0.01\n",
      "Test size: (14561, 784)\n",
      "Train size: (55441, 784)\n",
      "Optimizing model:  t_svgp_white\n"
     ]
    },
    {
     "name": "stderr",
     "output_type": "stream",
     "text": [
      "100%|█████████████████████████████████████████████████████████████████████████████████████████████████████████████████████████████████████████████████████████████████████████████| 100/100 [00:22<00:00,  4.53it/s]\n"
     ]
    },
    {
     "name": "stdout",
     "output_type": "stream",
     "text": [
      "Accuracy : 0.8677288647757709\n",
      "Leverage score : True\n",
      "Shift Percentage: 0.02\n",
      "Test size: (15121, 784)\n",
      "Train size: (54879, 784)\n",
      "Optimizing model:  t_svgp_white\n"
     ]
    },
    {
     "name": "stderr",
     "output_type": "stream",
     "text": [
      "100%|█████████████████████████████████████████████████████████████████████████████████████████████████████████████████████████████████████████████████████████████████████████████| 100/100 [00:21<00:00,  4.71it/s]\n"
     ]
    },
    {
     "name": "stdout",
     "output_type": "stream",
     "text": [
      "Accuracy : 0.8357912836452616\n",
      "Leverage score : False\n",
      "Shift Percentage: 0.02\n",
      "Test size: (15121, 784)\n",
      "Train size: (54889, 784)\n",
      "Optimizing model:  t_svgp_white\n"
     ]
    },
    {
     "name": "stderr",
     "output_type": "stream",
     "text": [
      "100%|█████████████████████████████████████████████████████████████████████████████████████████████████████████████████████████████████████████████████████████████████████████████| 100/100 [00:20<00:00,  4.76it/s]\n"
     ]
    },
    {
     "name": "stdout",
     "output_type": "stream",
     "text": [
      "Accuracy : 0.8654189537728986\n",
      "Leverage score : True\n",
      "Shift Percentage: 0.03\n",
      "Test size: (15681, 784)\n",
      "Train size: (54319, 784)\n",
      "Optimizing model:  t_svgp_white\n"
     ]
    },
    {
     "name": "stderr",
     "output_type": "stream",
     "text": [
      "100%|█████████████████████████████████████████████████████████████████████████████████████████████████████████████████████████████████████████████████████████████████████████████| 100/100 [00:21<00:00,  4.76it/s]\n"
     ]
    },
    {
     "name": "stdout",
     "output_type": "stream",
     "text": [
      "Accuracy : 0.8218225878451629\n",
      "Leverage score : False\n",
      "Shift Percentage: 0.03\n",
      "Test size: (15681, 784)\n",
      "Train size: (54341, 784)\n",
      "Optimizing model:  t_svgp_white\n"
     ]
    },
    {
     "name": "stderr",
     "output_type": "stream",
     "text": [
      "100%|█████████████████████████████████████████████████████████████████████████████████████████████████████████████████████████████████████████████████████████████████████████████| 100/100 [00:21<00:00,  4.60it/s]\n"
     ]
    },
    {
     "name": "stdout",
     "output_type": "stream",
     "text": [
      "Accuracy : 0.872202027931892\n",
      "Leverage score : True\n",
      "Shift Percentage: 0.05\n",
      "Test size: (16801, 784)\n",
      "Train size: (53199, 784)\n",
      "Optimizing model:  t_svgp_white\n"
     ]
    },
    {
     "name": "stderr",
     "output_type": "stream",
     "text": [
      "100%|█████████████████████████████████████████████████████████████████████████████████████████████████████████████████████████████████████████████████████████████████████████████| 100/100 [00:21<00:00,  4.73it/s]\n"
     ]
    },
    {
     "name": "stdout",
     "output_type": "stream",
     "text": [
      "Accuracy : 0.7965002083209333\n",
      "Leverage score : False\n",
      "Shift Percentage: 0.05\n",
      "Test size: (16801, 784)\n",
      "Train size: (53259, 784)\n",
      "Optimizing model:  t_svgp_white\n"
     ]
    },
    {
     "name": "stderr",
     "output_type": "stream",
     "text": [
      "100%|█████████████████████████████████████████████████████████████████████████████████████████████████████████████████████████████████████████████████████████████████████████████| 100/100 [00:20<00:00,  4.80it/s]\n"
     ]
    },
    {
     "name": "stdout",
     "output_type": "stream",
     "text": [
      "Accuracy : 0.8725671091006487\n",
      "Leverage score : True\n",
      "Shift Percentage: 0.07\n",
      "Test size: (17921, 784)\n",
      "Train size: (52079, 784)\n",
      "Optimizing model:  t_svgp_white\n"
     ]
    },
    {
     "name": "stderr",
     "output_type": "stream",
     "text": [
      "100%|█████████████████████████████████████████████████████████████████████████████████████████████████████████████████████████████████████████████████████████████████████████████| 100/100 [00:20<00:00,  4.79it/s]\n"
     ]
    },
    {
     "name": "stdout",
     "output_type": "stream",
     "text": [
      "Accuracy : 0.7695999107192679\n",
      "Leverage score : False\n",
      "Shift Percentage: 0.07\n",
      "Test size: (17921, 784)\n",
      "Train size: (52215, 784)\n",
      "Optimizing model:  t_svgp_white\n"
     ]
    },
    {
     "name": "stderr",
     "output_type": "stream",
     "text": [
      "100%|█████████████████████████████████████████████████████████████████████████████████████████████████████████████████████████████████████████████████████████████████████████████| 100/100 [00:21<00:00,  4.68it/s]\n"
     ]
    },
    {
     "name": "stdout",
     "output_type": "stream",
     "text": [
      "Accuracy : 0.8654092963562301\n",
      "Leverage score : True\n",
      "Shift Percentage: 0.1\n",
      "Test size: (19601, 784)\n",
      "Train size: (50399, 784)\n",
      "Optimizing model:  t_svgp_white\n"
     ]
    },
    {
     "name": "stderr",
     "output_type": "stream",
     "text": [
      "100%|█████████████████████████████████████████████████████████████████████████████████████████████████████████████████████████████████████████████████████████████████████████████| 100/100 [00:20<00:00,  4.82it/s]\n"
     ]
    },
    {
     "name": "stdout",
     "output_type": "stream",
     "text": [
      "Accuracy : 0.7436355287995511\n",
      "Leverage score : False\n",
      "Shift Percentage: 0.1\n",
      "Test size: (19601, 784)\n",
      "Train size: (50658, 784)\n",
      "Optimizing model:  t_svgp_white\n"
     ]
    },
    {
     "name": "stderr",
     "output_type": "stream",
     "text": [
      "100%|█████████████████████████████████████████████████████████████████████████████████████████████████████████████████████████████████████████████████████████████████████████████| 100/100 [00:22<00:00,  4.50it/s]\n"
     ]
    },
    {
     "name": "stdout",
     "output_type": "stream",
     "text": [
      "Accuracy : 0.8769960716289985\n",
      "Leverage score : True\n",
      "Shift Percentage: 0.12\n",
      "Test size: (20721, 784)\n",
      "Train size: (49279, 784)\n",
      "Optimizing model:  t_svgp_white\n"
     ]
    },
    {
     "name": "stderr",
     "output_type": "stream",
     "text": [
      "100%|█████████████████████████████████████████████████████████████████████████████████████████████████████████████████████████████████████████████████████████████████████████████| 100/100 [00:20<00:00,  4.77it/s]\n"
     ]
    },
    {
     "name": "stdout",
     "output_type": "stream",
     "text": [
      "Accuracy : 0.744220838762608\n",
      "Leverage score : False\n",
      "Shift Percentage: 0.12\n",
      "Test size: (20721, 784)\n",
      "Train size: (49721, 784)\n",
      "Optimizing model:  t_svgp_white\n"
     ]
    },
    {
     "name": "stderr",
     "output_type": "stream",
     "text": [
      "100%|█████████████████████████████████████████████████████████████████████████████████████████████████████████████████████████████████████████████████████████████████████████████| 100/100 [00:20<00:00,  4.82it/s]\n"
     ]
    },
    {
     "name": "stdout",
     "output_type": "stream",
     "text": [
      "Accuracy : 0.8721586796004054\n",
      "Leverage score : True\n",
      "Shift Percentage: 0.15\n",
      "Test size: (22401, 784)\n",
      "Train size: (47599, 784)\n",
      "Optimizing model:  t_svgp_white\n"
     ]
    },
    {
     "name": "stderr",
     "output_type": "stream",
     "text": [
      "100%|█████████████████████████████████████████████████████████████████████████████████████████████████████████████████████████████████████████████████████████████████████████████| 100/100 [00:21<00:00,  4.71it/s]\n"
     ]
    },
    {
     "name": "stdout",
     "output_type": "stream",
     "text": [
      "Accuracy : 0.7099683049863845\n",
      "Leverage score : False\n",
      "Shift Percentage: 0.15\n",
      "Test size: (22401, 784)\n",
      "Train size: (48203, 784)\n",
      "Optimizing model:  t_svgp_white\n"
     ]
    },
    {
     "name": "stderr",
     "output_type": "stream",
     "text": [
      "100%|█████████████████████████████████████████████████████████████████████████████████████████████████████████████████████████████████████████████████████████████████████████████| 100/100 [00:21<00:00,  4.58it/s]\n"
     ]
    },
    {
     "name": "stdout",
     "output_type": "stream",
     "text": [
      "Accuracy : 0.8675059149145128\n",
      "Leverage score : True\n",
      "Shift Percentage: 0.01\n",
      "Test size: (14561, 784)\n",
      "Train size: (55439, 784)\n",
      "Optimizing model:  t_svgp_white\n"
     ]
    },
    {
     "name": "stderr",
     "output_type": "stream",
     "text": [
      "100%|█████████████████████████████████████████████████████████████████████████████████████████████████████████████████████████████████████████████████████████████████████████████| 100/100 [00:20<00:00,  4.80it/s]\n"
     ]
    },
    {
     "name": "stdout",
     "output_type": "stream",
     "text": [
      "Accuracy : 0.8514525101297987\n",
      "Leverage score : False\n",
      "Shift Percentage: 0.01\n",
      "Test size: (14561, 784)\n",
      "Train size: (55440, 784)\n",
      "Optimizing model:  t_svgp_white\n"
     ]
    },
    {
     "name": "stderr",
     "output_type": "stream",
     "text": [
      "100%|█████████████████████████████████████████████████████████████████████████████████████████████████████████████████████████████████████████████████████████████████████████████| 100/100 [00:21<00:00,  4.65it/s]\n"
     ]
    },
    {
     "name": "stdout",
     "output_type": "stream",
     "text": [
      "Accuracy : 0.8770688826316874\n",
      "Leverage score : True\n",
      "Shift Percentage: 0.02\n",
      "Test size: (15121, 784)\n",
      "Train size: (54879, 784)\n",
      "Optimizing model:  t_svgp_white\n"
     ]
    },
    {
     "name": "stderr",
     "output_type": "stream",
     "text": [
      "100%|█████████████████████████████████████████████████████████████████████████████████████████████████████████████████████████████████████████████████████████████████████████████| 100/100 [00:21<00:00,  4.71it/s]\n"
     ]
    },
    {
     "name": "stdout",
     "output_type": "stream",
     "text": [
      "Accuracy : 0.8316910257258118\n",
      "Leverage score : False\n",
      "Shift Percentage: 0.02\n",
      "Test size: (15121, 784)\n",
      "Train size: (54887, 784)\n",
      "Optimizing model:  t_svgp_white\n"
     ]
    },
    {
     "name": "stderr",
     "output_type": "stream",
     "text": [
      "100%|█████████████████████████████████████████████████████████████████████████████████████████████████████████████████████████████████████████████████████████████████████████████| 100/100 [00:21<00:00,  4.73it/s]\n"
     ]
    },
    {
     "name": "stdout",
     "output_type": "stream",
     "text": [
      "Accuracy : 0.8742808015342901\n",
      "Leverage score : True\n",
      "Shift Percentage: 0.03\n",
      "Test size: (15681, 784)\n",
      "Train size: (54319, 784)\n",
      "Optimizing model:  t_svgp_white\n"
     ]
    },
    {
     "name": "stderr",
     "output_type": "stream",
     "text": [
      "100%|█████████████████████████████████████████████████████████████████████████████████████████████████████████████████████████████████████████████████████████████████████████████| 100/100 [00:20<00:00,  4.76it/s]\n"
     ]
    },
    {
     "name": "stdout",
     "output_type": "stream",
     "text": [
      "Accuracy : 0.8111727568394873\n",
      "Leverage score : False\n",
      "Shift Percentage: 0.03\n",
      "Test size: (15681, 784)\n",
      "Train size: (54349, 784)\n",
      "Optimizing model:  t_svgp_white\n"
     ]
    },
    {
     "name": "stderr",
     "output_type": "stream",
     "text": [
      "100%|█████████████████████████████████████████████████████████████████████████████████████████████████████████████████████████████████████████████████████████████████████████████| 100/100 [00:21<00:00,  4.60it/s]\n"
     ]
    },
    {
     "name": "stdout",
     "output_type": "stream",
     "text": [
      "Accuracy : 0.879344429564441\n",
      "Leverage score : True\n",
      "Shift Percentage: 0.05\n",
      "Test size: (16801, 784)\n",
      "Train size: (53199, 784)\n",
      "Optimizing model:  t_svgp_white\n"
     ]
    },
    {
     "name": "stderr",
     "output_type": "stream",
     "text": [
      "100%|█████████████████████████████████████████████████████████████████████████████████████████████████████████████████████████████████████████████████████████████████████████████| 100/100 [00:20<00:00,  4.82it/s]\n"
     ]
    },
    {
     "name": "stdout",
     "output_type": "stream",
     "text": [
      "Accuracy : 0.8047140051187429\n",
      "Leverage score : False\n",
      "Shift Percentage: 0.05\n",
      "Test size: (16801, 784)\n",
      "Train size: (53268, 784)\n",
      "Optimizing model:  t_svgp_white\n"
     ]
    },
    {
     "name": "stderr",
     "output_type": "stream",
     "text": [
      "100%|█████████████████████████████████████████████████████████████████████████████████████████████████████████████████████████████████████████████████████████████████████████████| 100/100 [00:21<00:00,  4.74it/s]\n"
     ]
    },
    {
     "name": "stdout",
     "output_type": "stream",
     "text": [
      "Accuracy : 0.8756026426998393\n",
      "Leverage score : True\n",
      "Shift Percentage: 0.07\n",
      "Test size: (17921, 784)\n",
      "Train size: (52079, 784)\n",
      "Optimizing model:  t_svgp_white\n"
     ]
    },
    {
     "name": "stderr",
     "output_type": "stream",
     "text": [
      "100%|█████████████████████████████████████████████████████████████████████████████████████████████████████████████████████████████████████████████████████████████████████████████| 100/100 [00:21<00:00,  4.70it/s]\n"
     ]
    },
    {
     "name": "stdout",
     "output_type": "stream",
     "text": [
      "Accuracy : 0.771385525361308\n",
      "Leverage score : False\n",
      "Shift Percentage: 0.07\n",
      "Test size: (17921, 784)\n",
      "Train size: (52195, 784)\n",
      "Optimizing model:  t_svgp_white\n"
     ]
    },
    {
     "name": "stderr",
     "output_type": "stream",
     "text": [
      "100%|█████████████████████████████████████████████████████████████████████████████████████████████████████████████████████████████████████████████████████████████████████████████| 100/100 [00:22<00:00,  4.51it/s]\n"
     ]
    },
    {
     "name": "stdout",
     "output_type": "stream",
     "text": [
      "Accuracy : 0.8738909659059204\n",
      "Leverage score : True\n",
      "Shift Percentage: 0.1\n",
      "Test size: (19601, 784)\n",
      "Train size: (50399, 784)\n",
      "Optimizing model:  t_svgp_white\n"
     ]
    },
    {
     "name": "stderr",
     "output_type": "stream",
     "text": [
      "100%|█████████████████████████████████████████████████████████████████████████████████████████████████████████████████████████████████████████████████████████████████████████████| 100/100 [00:20<00:00,  4.77it/s]\n"
     ]
    },
    {
     "name": "stdout",
     "output_type": "stream",
     "text": [
      "Accuracy : 0.7415437987857763\n",
      "Leverage score : False\n",
      "Shift Percentage: 0.1\n",
      "Test size: (19601, 784)\n",
      "Train size: (50675, 784)\n",
      "Optimizing model:  t_svgp_white\n"
     ]
    },
    {
     "name": "stderr",
     "output_type": "stream",
     "text": [
      "100%|█████████████████████████████████████████████████████████████████████████████████████████████████████████████████████████████████████████████████████████████████████████████| 100/100 [00:21<00:00,  4.70it/s]\n"
     ]
    },
    {
     "name": "stdout",
     "output_type": "stream",
     "text": [
      "Accuracy : 0.8785266057854191\n",
      "Leverage score : True\n",
      "Shift Percentage: 0.12\n",
      "Test size: (20721, 784)\n",
      "Train size: (49279, 784)\n",
      "Optimizing model:  t_svgp_white\n"
     ]
    },
    {
     "name": "stderr",
     "output_type": "stream",
     "text": [
      "100%|█████████████████████████████████████████████████████████████████████████████████████████████████████████████████████████████████████████████████████████████████████████████| 100/100 [00:21<00:00,  4.70it/s]\n"
     ]
    },
    {
     "name": "stdout",
     "output_type": "stream",
     "text": [
      "Accuracy : 0.7379470102794267\n",
      "Leverage score : False\n",
      "Shift Percentage: 0.12\n",
      "Test size: (20721, 784)\n",
      "Train size: (49663, 784)\n",
      "Optimizing model:  t_svgp_white\n"
     ]
    },
    {
     "name": "stderr",
     "output_type": "stream",
     "text": [
      "100%|█████████████████████████████████████████████████████████████████████████████████████████████████████████████████████████████████████████████████████████████████████████████| 100/100 [00:20<00:00,  4.80it/s]\n"
     ]
    },
    {
     "name": "stdout",
     "output_type": "stream",
     "text": [
      "Accuracy : 0.8746682109936779\n",
      "Leverage score : True\n",
      "Shift Percentage: 0.15\n",
      "Test size: (22401, 784)\n",
      "Train size: (47599, 784)\n",
      "Optimizing model:  t_svgp_white\n"
     ]
    },
    {
     "name": "stderr",
     "output_type": "stream",
     "text": [
      "100%|█████████████████████████████████████████████████████████████████████████████████████████████████████████████████████████████████████████████████████████████████████████████| 100/100 [00:21<00:00,  4.73it/s]\n"
     ]
    },
    {
     "name": "stdout",
     "output_type": "stream",
     "text": [
      "Accuracy : 0.7318869693317263\n",
      "Leverage score : False\n",
      "Shift Percentage: 0.15\n",
      "Test size: (22401, 784)\n",
      "Train size: (48205, 784)\n",
      "Optimizing model:  t_svgp_white\n"
     ]
    },
    {
     "name": "stderr",
     "output_type": "stream",
     "text": [
      "100%|█████████████████████████████████████████████████████████████████████████████████████████████████████████████████████████████████████████████████████████████████████████████| 100/100 [00:21<00:00,  4.71it/s]\n"
     ]
    },
    {
     "name": "stdout",
     "output_type": "stream",
     "text": [
      "Accuracy : 0.8767019329494219\n",
      "Leverage score : True\n",
      "Shift Percentage: 0.01\n",
      "Test size: (14561, 784)\n",
      "Train size: (55439, 784)\n",
      "Optimizing model:  t_svgp_white\n"
     ]
    },
    {
     "name": "stderr",
     "output_type": "stream",
     "text": [
      "100%|█████████████████████████████████████████████████████████████████████████████████████████████████████████████████████████████████████████████████████████████████████████████| 100/100 [00:20<00:00,  4.81it/s]\n"
     ]
    },
    {
     "name": "stdout",
     "output_type": "stream",
     "text": [
      "Accuracy : 0.8456149989698509\n",
      "Leverage score : False\n",
      "Shift Percentage: 0.01\n",
      "Test size: (14561, 784)\n",
      "Train size: (55440, 784)\n",
      "Optimizing model:  t_svgp_white\n"
     ]
    },
    {
     "name": "stderr",
     "output_type": "stream",
     "text": [
      "100%|█████████████████████████████████████████████████████████████████████████████████████████████████████████████████████████████████████████████████████████████████████████████| 100/100 [00:21<00:00,  4.57it/s]\n"
     ]
    },
    {
     "name": "stdout",
     "output_type": "stream",
     "text": [
      "Accuracy : 0.8761760868072248\n",
      "Leverage score : True\n",
      "Shift Percentage: 0.02\n",
      "Test size: (15121, 784)\n",
      "Train size: (54879, 784)\n",
      "Optimizing model:  t_svgp_white\n"
     ]
    },
    {
     "name": "stderr",
     "output_type": "stream",
     "text": [
      "100%|█████████████████████████████████████████████████████████████████████████████████████████████████████████████████████████████████████████████████████████████████████████████| 100/100 [00:20<00:00,  4.78it/s]\n"
     ]
    },
    {
     "name": "stdout",
     "output_type": "stream",
     "text": [
      "Accuracy : 0.8320878248793069\n",
      "Leverage score : False\n",
      "Shift Percentage: 0.02\n",
      "Test size: (15121, 784)\n",
      "Train size: (54888, 784)\n",
      "Optimizing model:  t_svgp_white\n"
     ]
    },
    {
     "name": "stderr",
     "output_type": "stream",
     "text": [
      "100%|█████████████████████████████████████████████████████████████████████████████████████████████████████████████████████████████████████████████████████████████████████████████| 100/100 [00:21<00:00,  4.64it/s]\n"
     ]
    },
    {
     "name": "stdout",
     "output_type": "stream",
     "text": [
      "Accuracy : 0.8799682560677203\n",
      "Leverage score : True\n",
      "Shift Percentage: 0.03\n",
      "Test size: (15681, 784)\n",
      "Train size: (54319, 784)\n",
      "Optimizing model:  t_svgp_white\n"
     ]
    },
    {
     "name": "stderr",
     "output_type": "stream",
     "text": [
      "100%|█████████████████████████████████████████████████████████████████████████████████████████████████████████████████████████████████████████████████████████████████████████████| 100/100 [00:21<00:00,  4.74it/s]\n"
     ]
    },
    {
     "name": "stdout",
     "output_type": "stream",
     "text": [
      "Accuracy : 0.8192717301192526\n",
      "Leverage score : False\n",
      "Shift Percentage: 0.03\n",
      "Test size: (15681, 784)\n",
      "Train size: (54338, 784)\n",
      "Optimizing model:  t_svgp_white\n"
     ]
    },
    {
     "name": "stderr",
     "output_type": "stream",
     "text": [
      "100%|█████████████████████████████████████████████████████████████████████████████████████████████████████████████████████████████████████████████████████████████████████████████| 100/100 [00:21<00:00,  4.71it/s]\n"
     ]
    },
    {
     "name": "stdout",
     "output_type": "stream",
     "text": [
      "Accuracy : 0.8833620304827499\n",
      "Leverage score : True\n",
      "Shift Percentage: 0.05\n",
      "Test size: (16801, 784)\n",
      "Train size: (53199, 784)\n",
      "Optimizing model:  t_svgp_white\n"
     ]
    },
    {
     "name": "stderr",
     "output_type": "stream",
     "text": [
      "100%|█████████████████████████████████████████████████████████████████████████████████████████████████████████████████████████████████████████████████████████████████████████████| 100/100 [00:21<00:00,  4.71it/s]\n"
     ]
    },
    {
     "name": "stdout",
     "output_type": "stream",
     "text": [
      "Accuracy : 0.7866793643235521\n",
      "Leverage score : False\n",
      "Shift Percentage: 0.05\n",
      "Test size: (16801, 784)\n",
      "Train size: (53263, 784)\n",
      "Optimizing model:  t_svgp_white\n"
     ]
    },
    {
     "name": "stderr",
     "output_type": "stream",
     "text": [
      "100%|█████████████████████████████████████████████████████████████████████████████████████████████████████████████████████████████████████████████████████████████████████████████| 100/100 [00:21<00:00,  4.63it/s]\n"
     ]
    },
    {
     "name": "stdout",
     "output_type": "stream",
     "text": [
      "Accuracy : 0.8774477709660139\n",
      "Leverage score : True\n",
      "Shift Percentage: 0.07\n",
      "Test size: (17921, 784)\n",
      "Train size: (52079, 784)\n",
      "Optimizing model:  t_svgp_white\n"
     ]
    },
    {
     "name": "stderr",
     "output_type": "stream",
     "text": [
      "100%|█████████████████████████████████████████████████████████████████████████████████████████████████████████████████████████████████████████████████████████████████████████████| 100/100 [00:20<00:00,  4.77it/s]\n"
     ]
    },
    {
     "name": "stdout",
     "output_type": "stream",
     "text": [
      "Accuracy : 0.7707717203281067\n",
      "Leverage score : False\n",
      "Shift Percentage: 0.07\n",
      "Test size: (17921, 784)\n",
      "Train size: (52197, 784)\n",
      "Optimizing model:  t_svgp_white\n"
     ]
    },
    {
     "name": "stderr",
     "output_type": "stream",
     "text": [
      "100%|█████████████████████████████████████████████████████████████████████████████████████████████████████████████████████████████████████████████████████████████████████████████| 100/100 [00:21<00:00,  4.71it/s]\n"
     ]
    },
    {
     "name": "stdout",
     "output_type": "stream",
     "text": [
      "Accuracy : 0.8757323810055242\n",
      "Leverage score : True\n",
      "Shift Percentage: 0.1\n",
      "Test size: (19601, 784)\n",
      "Train size: (50399, 784)\n",
      "Optimizing model:  t_svgp_white\n"
     ]
    },
    {
     "name": "stderr",
     "output_type": "stream",
     "text": [
      "100%|█████████████████████████████████████████████████████████████████████████████████████████████████████████████████████████████████████████████████████████████████████████████| 100/100 [00:21<00:00,  4.66it/s]\n"
     ]
    },
    {
     "name": "stdout",
     "output_type": "stream",
     "text": [
      "Accuracy : 0.7394010509667874\n",
      "Leverage score : False\n",
      "Shift Percentage: 0.1\n",
      "Test size: (19601, 784)\n",
      "Train size: (50668, 784)\n",
      "Optimizing model:  t_svgp_white\n"
     ]
    },
    {
     "name": "stderr",
     "output_type": "stream",
     "text": [
      "100%|█████████████████████████████████████████████████████████████████████████████████████████████████████████████████████████████████████████████████████████████████████████████| 100/100 [00:21<00:00,  4.72it/s]\n"
     ]
    },
    {
     "name": "stdout",
     "output_type": "stream",
     "text": [
      "Accuracy : 0.8751594306412938\n",
      "Leverage score : True\n",
      "Shift Percentage: 0.12\n",
      "Test size: (20721, 784)\n",
      "Train size: (49279, 784)\n",
      "Optimizing model:  t_svgp_white\n"
     ]
    },
    {
     "name": "stderr",
     "output_type": "stream",
     "text": [
      "100%|█████████████████████████████████████████████████████████████████████████████████████████████████████████████████████████████████████████████████████████████████████████████| 100/100 [00:20<00:00,  4.87it/s]\n"
     ]
    },
    {
     "name": "stdout",
     "output_type": "stream",
     "text": [
      "Accuracy : 0.7333140292456928\n",
      "Leverage score : False\n",
      "Shift Percentage: 0.12\n",
      "Test size: (20721, 784)\n",
      "Train size: (49671, 784)\n",
      "Optimizing model:  t_svgp_white\n"
     ]
    },
    {
     "name": "stderr",
     "output_type": "stream",
     "text": [
      "100%|█████████████████████████████████████████████████████████████████████████████████████████████████████████████████████████████████████████████████████████████████████████████| 100/100 [00:21<00:00,  4.72it/s]\n"
     ]
    },
    {
     "name": "stdout",
     "output_type": "stream",
     "text": [
      "Accuracy : 0.8759229766903142\n",
      "Leverage score : True\n",
      "Shift Percentage: 0.15\n",
      "Test size: (22401, 784)\n",
      "Train size: (47599, 784)\n",
      "Optimizing model:  t_svgp_white\n"
     ]
    },
    {
     "name": "stderr",
     "output_type": "stream",
     "text": [
      "100%|█████████████████████████████████████████████████████████████████████████████████████████████████████████████████████████████████████████████████████████████████████████████| 100/100 [00:20<00:00,  4.80it/s]\n"
     ]
    },
    {
     "name": "stdout",
     "output_type": "stream",
     "text": [
      "Accuracy : 0.7137181375831436\n",
      "Leverage score : False\n",
      "Shift Percentage: 0.15\n",
      "Test size: (22401, 784)\n",
      "Train size: (48183, 784)\n",
      "Optimizing model:  t_svgp_white\n"
     ]
    },
    {
     "name": "stderr",
     "output_type": "stream",
     "text": [
      "100%|█████████████████████████████████████████████████████████████████████████████████████████████████████████████████████████████████████████████████████████████████████████████| 100/100 [00:22<00:00,  4.54it/s]\n"
     ]
    },
    {
     "name": "stdout",
     "output_type": "stream",
     "text": [
      "Accuracy : 0.8615240391053971\n",
      "Leverage score : True\n",
      "Shift Percentage: 0.01\n",
      "Test size: (14561, 784)\n",
      "Train size: (55439, 784)\n",
      "Optimizing model:  t_svgp_white\n"
     ]
    },
    {
     "name": "stderr",
     "output_type": "stream",
     "text": [
      "100%|█████████████████████████████████████████████████████████████████████████████████████████████████████████████████████████████████████████████████████████████████████████████| 100/100 [00:21<00:00,  4.55it/s]\n"
     ]
    },
    {
     "name": "stdout",
     "output_type": "stream",
     "text": [
      "Accuracy : 0.848224709841357\n",
      "Leverage score : False\n",
      "Shift Percentage: 0.01\n",
      "Test size: (14561, 784)\n",
      "Train size: (55444, 784)\n",
      "Optimizing model:  t_svgp_white\n"
     ]
    },
    {
     "name": "stderr",
     "output_type": "stream",
     "text": [
      "100%|█████████████████████████████████████████████████████████████████████████████████████████████████████████████████████████████████████████████████████████████████████████████| 100/100 [00:21<00:00,  4.56it/s]\n"
     ]
    },
    {
     "name": "stdout",
     "output_type": "stream",
     "text": [
      "Accuracy : 0.8666300391456631\n",
      "Leverage score : True\n",
      "Shift Percentage: 0.02\n",
      "Test size: (15121, 784)\n",
      "Train size: (54879, 784)\n",
      "Optimizing model:  t_svgp_white\n"
     ]
    },
    {
     "name": "stderr",
     "output_type": "stream",
     "text": [
      "100%|█████████████████████████████████████████████████████████████████████████████████████████████████████████████████████████████████████████████████████████████████████████████| 100/100 [00:21<00:00,  4.74it/s]\n"
     ]
    },
    {
     "name": "stdout",
     "output_type": "stream",
     "text": [
      "Accuracy : 0.830368361880828\n",
      "Leverage score : False\n",
      "Shift Percentage: 0.02\n",
      "Test size: (15121, 784)\n",
      "Train size: (54888, 784)\n",
      "Optimizing model:  t_svgp_white\n"
     ]
    },
    {
     "name": "stderr",
     "output_type": "stream",
     "text": [
      "100%|█████████████████████████████████████████████████████████████████████████████████████████████████████████████████████████████████████████████████████████████████████████████| 100/100 [00:21<00:00,  4.71it/s]\n"
     ]
    },
    {
     "name": "stdout",
     "output_type": "stream",
     "text": [
      "Accuracy : 0.8765293300707625\n",
      "Leverage score : True\n",
      "Shift Percentage: 0.03\n",
      "Test size: (15681, 784)\n",
      "Train size: (54319, 784)\n",
      "Optimizing model:  t_svgp_white\n"
     ]
    },
    {
     "name": "stderr",
     "output_type": "stream",
     "text": [
      "100%|█████████████████████████████████████████████████████████████████████████████████████████████████████████████████████████████████████████████████████████████████████████████| 100/100 [00:20<00:00,  4.77it/s]\n"
     ]
    },
    {
     "name": "stdout",
     "output_type": "stream",
     "text": [
      "Accuracy : 0.8165933295070468\n",
      "Leverage score : False\n",
      "Shift Percentage: 0.03\n",
      "Test size: (15681, 784)\n",
      "Train size: (54350, 784)\n",
      "Optimizing model:  t_svgp_white\n"
     ]
    },
    {
     "name": "stderr",
     "output_type": "stream",
     "text": [
      "100%|█████████████████████████████████████████████████████████████████████████████████████████████████████████████████████████████████████████████████████████████████████████████| 100/100 [00:21<00:00,  4.58it/s]\n"
     ]
    },
    {
     "name": "stdout",
     "output_type": "stream",
     "text": [
      "Accuracy : 0.8579172246667942\n",
      "Leverage score : True\n",
      "Shift Percentage: 0.05\n",
      "Test size: (16801, 784)\n",
      "Train size: (53199, 784)\n",
      "Optimizing model:  t_svgp_white\n"
     ]
    },
    {
     "name": "stderr",
     "output_type": "stream",
     "text": [
      "100%|█████████████████████████████████████████████████████████████████████████████████████████████████████████████████████████████████████████████████████████████████████████████| 100/100 [00:20<00:00,  4.86it/s]\n"
     ]
    },
    {
     "name": "stdout",
     "output_type": "stream",
     "text": [
      "Accuracy : 0.8023331944527111\n",
      "Leverage score : False\n",
      "Shift Percentage: 0.05\n",
      "Test size: (16801, 784)\n",
      "Train size: (53258, 784)\n",
      "Optimizing model:  t_svgp_white\n"
     ]
    },
    {
     "name": "stderr",
     "output_type": "stream",
     "text": [
      "100%|█████████████████████████████████████████████████████████████████████████████████████████████████████████████████████████████████████████████████████████████████████████████| 100/100 [00:21<00:00,  4.72it/s]\n"
     ]
    },
    {
     "name": "stdout",
     "output_type": "stream",
     "text": [
      "Accuracy : 0.8732218320338075\n",
      "Leverage score : True\n",
      "Shift Percentage: 0.07\n",
      "Test size: (17921, 784)\n",
      "Train size: (52079, 784)\n",
      "Optimizing model:  t_svgp_white\n"
     ]
    },
    {
     "name": "stderr",
     "output_type": "stream",
     "text": [
      "100%|█████████████████████████████████████████████████████████████████████████████████████████████████████████████████████████████████████████████████████████████████████████████| 100/100 [00:20<00:00,  4.79it/s]\n"
     ]
    },
    {
     "name": "stdout",
     "output_type": "stream",
     "text": [
      "Accuracy : 0.7612856425422688\n",
      "Leverage score : False\n",
      "Shift Percentage: 0.07\n",
      "Test size: (17921, 784)\n",
      "Train size: (52243, 784)\n",
      "Optimizing model:  t_svgp_white\n"
     ]
    },
    {
     "name": "stderr",
     "output_type": "stream",
     "text": [
      "100%|█████████████████████████████████████████████████████████████████████████████████████████████████████████████████████████████████████████████████████████████████████████████| 100/100 [00:21<00:00,  4.74it/s]\n"
     ]
    },
    {
     "name": "stdout",
     "output_type": "stream",
     "text": [
      "Accuracy : 0.8795826125774231\n",
      "Leverage score : True\n",
      "Shift Percentage: 0.1\n",
      "Test size: (19601, 784)\n",
      "Train size: (50399, 784)\n",
      "Optimizing model:  t_svgp_white\n"
     ]
    },
    {
     "name": "stderr",
     "output_type": "stream",
     "text": [
      "100%|█████████████████████████████████████████████████████████████████████████████████████████████████████████████████████████████████████████████████████████████████████████████| 100/100 [00:21<00:00,  4.59it/s]\n"
     ]
    },
    {
     "name": "stdout",
     "output_type": "stream",
     "text": [
      "Accuracy : 0.7457272588133258\n",
      "Leverage score : False\n",
      "Shift Percentage: 0.1\n",
      "Test size: (19601, 784)\n",
      "Train size: (50689, 784)\n",
      "Optimizing model:  t_svgp_white\n"
     ]
    },
    {
     "name": "stderr",
     "output_type": "stream",
     "text": [
      "100%|█████████████████████████████████████████████████████████████████████████████████████████████████████████████████████████████████████████████████████████████████████████████| 100/100 [00:22<00:00,  4.53it/s]\n"
     ]
    },
    {
     "name": "stdout",
     "output_type": "stream",
     "text": [
      "Accuracy : 0.8690883118208255\n",
      "Leverage score : True\n",
      "Shift Percentage: 0.12\n",
      "Test size: (20721, 784)\n",
      "Train size: (49279, 784)\n",
      "Optimizing model:  t_svgp_white\n"
     ]
    },
    {
     "name": "stderr",
     "output_type": "stream",
     "text": [
      "100%|█████████████████████████████████████████████████████████████████████████████████████████████████████████████████████████████████████████████████████████████████████████████| 100/100 [00:21<00:00,  4.74it/s]\n"
     ]
    },
    {
     "name": "stdout",
     "output_type": "stream",
     "text": [
      "Accuracy : 0.746054727088461\n",
      "Leverage score : False\n",
      "Shift Percentage: 0.12\n",
      "Test size: (20721, 784)\n",
      "Train size: (49673, 784)\n",
      "Optimizing model:  t_svgp_white\n"
     ]
    },
    {
     "name": "stderr",
     "output_type": "stream",
     "text": [
      "100%|█████████████████████████████████████████████████████████████████████████████████████████████████████████████████████████████████████████████████████████████████████████████| 100/100 [00:21<00:00,  4.58it/s]\n"
     ]
    },
    {
     "name": "stdout",
     "output_type": "stream",
     "text": [
      "Accuracy : 0.8719656387239998\n",
      "Leverage score : True\n",
      "Shift Percentage: 0.15\n",
      "Test size: (22401, 784)\n",
      "Train size: (47599, 784)\n",
      "Optimizing model:  t_svgp_white\n"
     ]
    },
    {
     "name": "stderr",
     "output_type": "stream",
     "text": [
      "100%|█████████████████████████████████████████████████████████████████████████████████████████████████████████████████████████████████████████████████████████████████████████████| 100/100 [00:21<00:00,  4.60it/s]\n"
     ]
    },
    {
     "name": "stdout",
     "output_type": "stream",
     "text": [
      "Accuracy : 0.7317530467389849\n",
      "Leverage score : False\n",
      "Shift Percentage: 0.15\n",
      "Test size: (22401, 784)\n",
      "Train size: (48190, 784)\n",
      "Optimizing model:  t_svgp_white\n"
     ]
    },
    {
     "name": "stderr",
     "output_type": "stream",
     "text": [
      "100%|█████████████████████████████████████████████████████████████████████████████████████████████████████████████████████████████████████████████████████████████████████████████| 100/100 [00:21<00:00,  4.69it/s]\n"
     ]
    },
    {
     "name": "stdout",
     "output_type": "stream",
     "text": [
      "Accuracy : 0.8747823757867952\n"
     ]
    }
   ],
   "source": [
    "seed = [33, 98, 100, 135, 719]\n",
    "shift_percentage = [0.01, 0.02, 0.03, 0.05, 0.07, 0.10, 0.12, 0.15]\n",
    "\n",
    "all_acc_leverage = []\n",
    "all_acc_random = []\n",
    "\n",
    "for s in seed:\n",
    "    acc_leverage = []\n",
    "    acc_random = []\n",
    "    all_train_tasks, all_test_tasks = set_seet_and_load_mnist(s)\n",
    "    \n",
    "    for per in shift_percentage:\n",
    "        acc_leverage.append(get_acc(per, True))   \n",
    "        acc_random.append(get_acc(per, False))\n",
    "    \n",
    "    all_acc_random += acc_random\n",
    "    all_acc_leverage += acc_leverage\n"
   ]
  },
  {
   "cell_type": "code",
   "execution_count": 7,
   "id": "6912c82d",
   "metadata": {},
   "outputs": [],
   "source": [
    "# get the initial point acc\n",
    "pred = model.predict_y(all_test_tasks[0])[0]\n",
    "pred_argmax = tf.reshape(tf.argmax(pred, axis=1), (-1, 1))\n",
    "acc = np.mean(pred_argmax == all_test_tasks[1])"
   ]
  },
  {
   "cell_type": "code",
   "execution_count": 8,
   "id": "2c34c771",
   "metadata": {},
   "outputs": [],
   "source": [
    "all_acc_leverage = np.array(all_acc_leverage).reshape((len(seed), -1))\n",
    "all_acc_random = np.array(all_acc_random).reshape((len(seed), -1))\n",
    "\n",
    "all_acc_leverage = np.concatenate([acc*np.ones((len(seed), 1)), all_acc_leverage], axis=1)\n",
    "all_acc_random = np.concatenate([acc*np.ones((len(seed), 1)), all_acc_random], axis=1)\n",
    "\n",
    "shift_percentage = [0] + shift_percentage\n",
    "shift_percentage = [i * 100 for i in shift_percentage]"
   ]
  },
  {
   "cell_type": "code",
   "execution_count": 12,
   "id": "5d67d33a",
   "metadata": {},
   "outputs": [
    {
     "data": {
      "image/png": "[encoded data removed]",
      "text/plain": [
       "<Figure size 500x500 with 1 Axes>"
      ]
     },
     "metadata": {},
     "output_type": "display_data"
    }
   ],
   "source": [
    "mean_bls = np.mean(all_acc_leverage, axis=0)\n",
    "mean_random = np.mean(all_acc_random, axis=0)\n",
    "\n",
    "fig, axs = plt.subplots(1,1,figsize=(5, 5))\n",
    "\n",
    "plt.plot(shift_percentage, mean_bls, label=\"BLS\", color=\"tab:blue\")\n",
    "plt.plot(shift_percentage, mean_random, label=\"Random\", color=\"tab:orange\")\n",
    "\n",
    "\n",
    "for acc_leverage, acc_random in zip(all_acc_leverage, all_acc_random):\n",
    "    plt.plot(shift_percentage, acc_leverage, color=\"tab:blue\", alpha=0.2)\n",
    "    plt.plot(shift_percentage, acc_random, color=\"tab:orange\", alpha=0.2)\n",
    "\n",
    "plt.xlabel(\"% of data moved\")\n",
    "plt.ylabel(\"Accuracy\")\n",
    "\n",
    "# plt.xticks([0, 0.05])\n",
    "plt.yticks([0.90, 0.86, 0.82, 0.78, 0.74])\n",
    "\n",
    "plt.xlim([-0.0, 15.0])\n",
    "plt.ylim([0.70, 0.95])\n",
    "\n",
    "plt.legend()\n",
    "plt.show()"
   ]
  },
  {
   "cell_type": "code",
   "execution_count": null,
   "id": "e05cb43a",
   "metadata": {},
   "outputs": [],
   "source": []
  }
 ],
 "metadata": {
  "kernelspec": {
   "display_name": "Python 3 (ipykernel)",
   "language": "python",
   "name": "python3"
  },
  "language_info": {
   "codemirror_mode": {
    "name": "ipython",
    "version": 3
   },
   "file_extension": ".py",
   "mimetype": "text/x-python",
   "name": "python",
   "nbconvert_exporter": "python",
   "pygments_lexer": "ipython3",
   "version": "3.8.13"
  }
 },
 "nbformat": 4,
 "nbformat_minor": 5
}
